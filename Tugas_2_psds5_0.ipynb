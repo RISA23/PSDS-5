{
  "nbformat": 4,
  "nbformat_minor": 0,
  "metadata": {
    "colab": {
      "provenance": []
    },
    "kernelspec": {
      "name": "python3",
      "display_name": "Python 3"
    },
    "language_info": {
      "name": "python"
    }
  },
  "cells": [
    {
      "cell_type": "code",
      "execution_count": 16,
      "metadata": {
        "colab": {
          "base_uri": "https://localhost:8080/"
        },
        "id": "KN4U9uJb7cKI",
        "outputId": "c50cad4e-790a-4138-e649-5a4126591d7f"
      },
      "outputs": [
        {
          "output_type": "stream",
          "name": "stdout",
          "text": [
            "Tuple (39, 'tiga sembilan', False, (9+69j))\n",
            "---------------------------------------------\n",
            "Tuple 2 (93, 'tiga sembilan', True, (69+9j))\n"
          ]
        }
      ],
      "source": [
        "#Latihan 1 Tuple\n",
        "T6=(39,\"tiga sembilan\", False,9+69j)\n",
        "print(\"Tuple\",T6)\n",
        "print('-'*45)\n",
        "T9=(93,\"tiga sembilan\",True,69+9j)\n",
        "print(\"Tuple 2\",T9)"
      ]
    },
    {
      "cell_type": "code",
      "source": [
        "#Latihan 2 Tuple\n",
        "T69=T6+T9\n",
        "T69"
      ],
      "metadata": {
        "colab": {
          "base_uri": "https://localhost:8080/"
        },
        "id": "n315drQ68E78",
        "outputId": "2e3a43a7-b518-4e9a-8255-64735a050e3b"
      },
      "execution_count": 6,
      "outputs": [
        {
          "output_type": "execute_result",
          "data": {
            "text/plain": [
              "(39, 'tiga sembilan', False, (9+69j), 93, 'tiga sembilan', True, (69+9j))"
            ]
          },
          "metadata": {},
          "execution_count": 6
        }
      ]
    },
    {
      "cell_type": "code",
      "source": [
        "#Latihan 1 List\n",
        "L2=[2,3,5,7,9,13]\n",
        "L3=['dua','tiga','empat']"
      ],
      "metadata": {
        "id": "7jbWM7f-7uyc"
      },
      "execution_count": 8,
      "outputs": []
    },
    {
      "cell_type": "code",
      "source": [
        "#Latihan 2 List\n",
        "L2[4]=77\n",
        "L3[1]=2\n",
        "print(L2)\n",
        "print('-'*20)\n",
        "print(L3)"
      ],
      "metadata": {
        "colab": {
          "base_uri": "https://localhost:8080/"
        },
        "id": "_0s-6Dpl82mW",
        "outputId": "6a3a6387-cb15-49d6-de4c-cc86f605e4c2"
      },
      "execution_count": 12,
      "outputs": [
        {
          "output_type": "stream",
          "name": "stdout",
          "text": [
            "[2, 3, 5, 7, 77, 13]\n",
            "--------------------\n",
            "['dua', 2, 'empat']\n"
          ]
        }
      ]
    }
  ]
}