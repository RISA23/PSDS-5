{
  "nbformat": 4,
  "nbformat_minor": 0,
  "metadata": {
    "colab": {
      "provenance": []
    },
    "kernelspec": {
      "name": "python3",
      "display_name": "Python 3"
    },
    "language_info": {
      "name": "python"
    }
  },
  "cells": [
    {
      "cell_type": "code",
      "source": [
        "#Latihan operator 1\n",
        "print('penjumlahan')\n",
        "print(33+36)\n",
        "print('-'*20)\n",
        "print('pengurangan')\n",
        "print(100-69)\n",
        "print('-'*20)\n",
        "print('perkalian')\n",
        "print(6*9)\n",
        "print('-'*20)\n",
        "print('pembagian')\n",
        "print(100/10)\n",
        "print('-'*20)\n",
        "print('modulus')\n",
        "print(55%4)\n",
        "print('-'*20)\n",
        "print('perpangkatan')\n",
        "print(6**9)\n",
        "print('-'*20)\n",
        "print('pembagian pembulatan flooring')\n",
        "print(9//2)\n"
      ],
      "metadata": {
        "colab": {
          "base_uri": "https://localhost:8080/"
        },
        "id": "zyvekw99D3Om",
        "outputId": "02ba08f9-f81e-47fe-f39c-55866f2ba6bc"
      },
      "execution_count": null,
      "outputs": [
        {
          "output_type": "stream",
          "name": "stdout",
          "text": [
            "penjumlahan\n",
            "69\n",
            "--------------------\n",
            "pengurangan\n",
            "31\n",
            "--------------------\n",
            "perkalian\n",
            "54\n",
            "--------------------\n",
            "pembagian\n",
            "10.0\n",
            "--------------------\n",
            "modulus\n",
            "3\n",
            "--------------------\n",
            "perpangkatan\n",
            "10077696\n",
            "--------------------\n",
            "pembagian pembulatan flooring\n",
            "4\n"
          ]
        }
      ]
    },
    {
      "cell_type": "code",
      "source": [
        "#Latihan operator 2\n",
        "a=6\n",
        "a=a+9\n",
        "print(a)\n",
        "b=7\n",
        "b=b-3\n",
        "print(b)\n",
        "c=9\n",
        "c=c*9\n",
        "print(c)\n",
        "d=11\n",
        "d=d/11\n",
        "print(d)\n",
        "e=14\n",
        "e=e%3\n",
        "print(e)\n",
        "f=15\n",
        "f=f**2\n",
        "print(f)\n",
        "g=17\n",
        "g=g//5\n",
        "print(g)\n",
        "print('-'*20)"
      ],
      "metadata": {
        "colab": {
          "base_uri": "https://localhost:8080/"
        },
        "id": "PKZt6x_9tzKZ",
        "outputId": "5ce33935-12cd-4770-82d9-adc5a6e7d12d"
      },
      "execution_count": null,
      "outputs": [
        {
          "output_type": "stream",
          "name": "stdout",
          "text": [
            "15\n",
            "4\n",
            "81\n",
            "1.0\n",
            "2\n",
            "225\n",
            "3\n",
            "--------------------\n"
          ]
        }
      ]
    },
    {
      "cell_type": "code",
      "source": [
        "#Latihan operator 3\n",
        "print(4==4)\n",
        "print(3!=6)\n",
        "print(4>1)\n",
        "print(4<8)\n",
        "print(4>=4)\n",
        "print(4<=4)"
      ],
      "metadata": {
        "colab": {
          "base_uri": "https://localhost:8080/"
        },
        "id": "30PREh97vdRo",
        "outputId": "39088c2a-9c60-4236-a3ee-38064c1061e2"
      },
      "execution_count": null,
      "outputs": [
        {
          "output_type": "stream",
          "name": "stdout",
          "text": [
            "True\n",
            "True\n",
            "True\n",
            "True\n",
            "True\n",
            "True\n"
          ]
        }
      ]
    },
    {
      "cell_type": "code",
      "source": [
        "#Latihan operator 4\n",
        "print(not True and not False)\n",
        "print(not False or False)\n",
        "print(not True and False)"
      ],
      "metadata": {
        "colab": {
          "base_uri": "https://localhost:8080/"
        },
        "id": "2DIKaDH4wJS6",
        "outputId": "114f495f-4847-4b81-9009-15225fbf340e"
      },
      "execution_count": null,
      "outputs": [
        {
          "output_type": "stream",
          "name": "stdout",
          "text": [
            "False\n",
            "True\n",
            "False\n"
          ]
        }
      ]
    },
    {
      "cell_type": "code",
      "source": [
        "#Latihan operator 5\n",
        "r=(4,6,2,9,0,89,77)\n",
        "i=77\n",
        "print(i in r)\n",
        "print('-'*20)\n",
        "s=(2,3,5,7,9,11)\n",
        "a=13\n",
        "print(a not in s)"
      ],
      "metadata": {
        "colab": {
          "base_uri": "https://localhost:8080/"
        },
        "id": "_1jsmfYywsqe",
        "outputId": "6bcc9214-4e5d-409c-d359-41c16b7367f5"
      },
      "execution_count": null,
      "outputs": [
        {
          "output_type": "stream",
          "name": "stdout",
          "text": [
            "True\n",
            "--------------------\n",
            "True\n"
          ]
        }
      ]
    },
    {
      "cell_type": "code",
      "source": [
        "#Latihan 1 variabel\n",
        "kalimat=\"HOLOH3RO\"\n",
        "bil1= 3\n",
        "bil2= 6.9\n",
        "bil3= False\n",
        "bil4= 5j+10\n",
        "print('-'*20)\n",
        "print(kalimat)\n",
        "print(bil1)\n",
        "print(bil2)\n",
        "print(bil3)\n",
        "print(bil4)\n"
      ],
      "metadata": {
        "colab": {
          "base_uri": "https://localhost:8080/"
        },
        "id": "L6JBQ7apxKiZ",
        "outputId": "b37d3ca4-0557-413e-acaa-2c820deb88c6"
      },
      "execution_count": null,
      "outputs": [
        {
          "output_type": "stream",
          "name": "stdout",
          "text": [
            "--------------------\n",
            "HOLOH3RO\n",
            "3\n",
            "6.9\n",
            "False\n",
            "(10+5j)\n"
          ]
        }
      ]
    },
    {
      "cell_type": "code",
      "source": [
        "#Latihan 2 variabel\n",
        "print(type(kalimat))\n",
        "print((type(bil1)))\n",
        "print((type(bil2)))\n",
        "print((type(bil3)))\n",
        "print((type(bil4)))"
      ],
      "metadata": {
        "colab": {
          "base_uri": "https://localhost:8080/"
        },
        "id": "psnRwK-UyAQh",
        "outputId": "14ed8c13-4db4-4335-f7fe-429d6f232156"
      },
      "execution_count": null,
      "outputs": [
        {
          "output_type": "stream",
          "name": "stdout",
          "text": [
            "<class 'str'>\n",
            "<class 'int'>\n",
            "<class 'float'>\n",
            "<class 'bool'>\n",
            "<class 'complex'>\n"
          ]
        }
      ]
    },
    {
      "cell_type": "code",
      "source": [
        "#Latihan 3 variabel\n",
        "print(bool(bil1))\n",
        "print(bool(bil2))\n",
        "print(bool(bil3))\n",
        "print(bool(bil4))\n",
        "print('-'*20)\n",
        "print(complex(bil1))\n",
        "print(complex(bil2))\n",
        "print(complex(bil3))\n",
        "print(complex(bil4))"
      ],
      "metadata": {
        "colab": {
          "base_uri": "https://localhost:8080/"
        },
        "id": "reRq0a40ySku",
        "outputId": "534e59ea-1962-42c8-ca24-45210504530a"
      },
      "execution_count": null,
      "outputs": [
        {
          "output_type": "stream",
          "name": "stdout",
          "text": [
            "True\n",
            "True\n",
            "False\n",
            "True\n",
            "--------------------\n",
            "(3+0j)\n",
            "(6.9+0j)\n",
            "0j\n",
            "(10+5j)\n"
          ]
        }
      ]
    }
  ]
}